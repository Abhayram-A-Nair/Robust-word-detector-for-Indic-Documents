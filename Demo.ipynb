{
 "cells": [
  {
   "cell_type": "code",
   "execution_count": 1,
   "id": "246c5c4b",
   "metadata": {},
   "outputs": [
    {
     "name": "stderr",
     "output_type": "stream",
     "text": [
      "/home/abhayram/Robust-word-detector-for-Indic-Documents/venv/lib/python3.6/site-packages/doctr/local.py:17: CryptographyDeprecationWarning: Python 3.6 is no longer supported by the Python core team. Therefore, support for it is deprecated in cryptography and will be removed in a future release.\n",
      "  from cryptography.fernet import Fernet\n"
     ]
    }
   ],
   "source": [
    "# from doctr.models import detection\n",
    "import torch\n",
    "import os\n",
    "from doctr.models import ocr_predictor\n",
    "from collections import OrderedDict\n",
    "from doctr.io import DocumentFile\n",
    "import cv2"
   ]
  },
  {
   "cell_type": "code",
   "execution_count": 2,
   "id": "21097b55",
   "metadata": {},
   "outputs": [
    {
     "data": {
      "text/plain": [
       "<All keys matched successfully>"
      ]
     },
     "execution_count": 2,
     "metadata": {},
     "output_type": "execute_result"
    }
   ],
   "source": [
    "#Loading the model\n",
    "device = torch.device(\"cuda\" if torch.cuda.is_available() else \"cpu\")\n",
    "predictor = ocr_predictor(pretrained=True).to(device)\n",
    "\n",
    "# original saved file with DataParallel\n",
    "state_dict = torch.load(\"./weights/db_resnet50.pt\")\n",
    "\n",
    "#COMMENT THE BELOW LINES OF CODE IF DataParallel was not used during training (provided weights used DataParallel)\n",
    "# create new OrderedDict that does not contain `module.`\n",
    "new_state_dict = OrderedDict()\n",
    "for k, v in state_dict.items():\n",
    "    name = k[7:] # remove `module.`\n",
    "    new_state_dict[name] = v\n",
    "    \n",
    "    \n",
    "predictor.det_predictor.model.load_state_dict(new_state_dict)"
   ]
  },
  {
   "cell_type": "code",
   "execution_count": 3,
   "id": "54e51646",
   "metadata": {},
   "outputs": [],
   "source": [
    "def doctr_predictions(directory):\n",
    "    #Gets the predictions from the model\n",
    "    \n",
    "    doc = DocumentFile.from_images(directory)\n",
    "    result = predictor(doc)\n",
    "    dic = result.export()\n",
    "    \n",
    "    page_dims = [page['dimensions'] for page in dic['pages']]\n",
    "    \n",
    "    regions = []\n",
    "    abs_coords = []\n",
    "    \n",
    "    regions = [[word for block in page['blocks'] for line in block['lines'] for word in line['words']] for page in dic['pages']]\n",
    "    abs_coords = [\n",
    "    [[int(round(word['geometry'][0][0] * dims[1])), \n",
    "      int(round(word['geometry'][0][1] * dims[0])), \n",
    "      int(round(word['geometry'][1][0] * dims[1])), \n",
    "      int(round(word['geometry'][1][1] * dims[0]))] for word in words]\n",
    "    for words, dims in zip(regions, page_dims)\n",
    "    ]\n",
    "\n",
    "#     pred = torch.Tensor(abs_coords[0])\n",
    "    return abs_coords"
   ]
  },
  {
   "cell_type": "code",
   "execution_count": 4,
   "id": "419ed7fc",
   "metadata": {},
   "outputs": [],
   "source": [
    "#loading the image file and running inference\n",
    "image_file = \"./test.png\"\n",
    "pred = doctr_predictions(image_file)"
   ]
  },
  {
   "cell_type": "code",
   "execution_count": 5,
   "id": "c737e08a",
   "metadata": {},
   "outputs": [
    {
     "data": {
      "text/plain": [
       "True"
      ]
     },
     "execution_count": 5,
     "metadata": {},
     "output_type": "execute_result"
    }
   ],
   "source": [
    "#creating output image\n",
    "image = cv2.imread(image_file)\n",
    "for w in pred[0]:\n",
    "    cv2.rectangle(image,(w[0], w[1]),(w[2], w[3]),(0,255,0))\n",
    "cv2.imwrite(f\"output.png\", image)"
   ]
  }
 ],
 "metadata": {
  "kernelspec": {
   "display_name": "Python 3",
   "language": "python",
   "name": "python3"
  },
  "language_info": {
   "codemirror_mode": {
    "name": "ipython",
    "version": 3
   },
   "file_extension": ".py",
   "mimetype": "text/x-python",
   "name": "python",
   "nbconvert_exporter": "python",
   "pygments_lexer": "ipython3",
   "version": "3.6.9"
  }
 },
 "nbformat": 4,
 "nbformat_minor": 5
}
